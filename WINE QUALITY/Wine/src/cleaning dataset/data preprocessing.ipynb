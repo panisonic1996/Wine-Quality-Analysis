{
 "cells": [
  {
   "cell_type": "markdown",
   "metadata": {
    "pycharm": {
     "name": "#%% md\n"
    }
   },
   "source": [
    "# Cleaning Wine dataset"
   ]
  },
  {
   "cell_type": "markdown",
   "source": [
    "### Importing libraries and constants"
   ],
   "metadata": {
    "collapsed": false,
    "pycharm": {
     "name": "#%% md\n"
    }
   }
  },
  {
   "cell_type": "code",
   "execution_count": 28,
   "outputs": [],
   "source": [
    "import pandas as pd\n",
    "import os\n",
    "from src.constants_and_functions.constants import data_processed_folder"
   ],
   "metadata": {
    "collapsed": false,
    "pycharm": {
     "name": "#%%\n"
    }
   }
  },
  {
   "cell_type": "markdown",
   "metadata": {},
   "source": [
    "### Loading data"
   ]
  },
  {
   "cell_type": "code",
   "execution_count": 29,
   "metadata": {},
   "outputs": [
    {
     "data": {
      "text/plain": "                                                Name  Rating Color Intensity  \\\n0                        EQUINOX | Luchineasa | 2020    90.7    9.        9.   \n1               BAHU WINERY | Sauvignon Blanc | 2020    89.8    94        94   \n2                 CRAMA BAUER | Feteasca Alba | 2019    91.9   9.6       9.6   \n3  BOUCHIÉ-CHATELLIER | Argile à Silex | Pouilly-...    92.8    97       9.6   \n4                                RASOVA | Nud | 2020    92.0   9.5       9.5   \n\n  Aroma Sweetness Acidity Alcohol Tannin Balance Finish Aftertaste  \n0    94        90     8.9     8.9    8.9     8.9    8.9        838  \n1    93       8.9      83      82     82      82     82         82  \n2   9.5       9.1     9.1     9.1    9.0     9.0    9.0        8.9  \n3   9.5        92      92      92     92     9.1    9.1        9.0  \n4   944        92      92     9.1    9.1     9.0    9.0         90  ",
      "text/html": "<div>\n<style scoped>\n    .dataframe tbody tr th:only-of-type {\n        vertical-align: middle;\n    }\n\n    .dataframe tbody tr th {\n        vertical-align: top;\n    }\n\n    .dataframe thead th {\n        text-align: right;\n    }\n</style>\n<table border=\"1\" class=\"dataframe\">\n  <thead>\n    <tr style=\"text-align: right;\">\n      <th></th>\n      <th>Name</th>\n      <th>Rating</th>\n      <th>Color</th>\n      <th>Intensity</th>\n      <th>Aroma</th>\n      <th>Sweetness</th>\n      <th>Acidity</th>\n      <th>Alcohol</th>\n      <th>Tannin</th>\n      <th>Balance</th>\n      <th>Finish</th>\n      <th>Aftertaste</th>\n    </tr>\n  </thead>\n  <tbody>\n    <tr>\n      <th>0</th>\n      <td>EQUINOX | Luchineasa | 2020</td>\n      <td>90.7</td>\n      <td>9.</td>\n      <td>9.</td>\n      <td>94</td>\n      <td>90</td>\n      <td>8.9</td>\n      <td>8.9</td>\n      <td>8.9</td>\n      <td>8.9</td>\n      <td>8.9</td>\n      <td>838</td>\n    </tr>\n    <tr>\n      <th>1</th>\n      <td>BAHU WINERY | Sauvignon Blanc | 2020</td>\n      <td>89.8</td>\n      <td>94</td>\n      <td>94</td>\n      <td>93</td>\n      <td>8.9</td>\n      <td>83</td>\n      <td>82</td>\n      <td>82</td>\n      <td>82</td>\n      <td>82</td>\n      <td>82</td>\n    </tr>\n    <tr>\n      <th>2</th>\n      <td>CRAMA BAUER | Feteasca Alba | 2019</td>\n      <td>91.9</td>\n      <td>9.6</td>\n      <td>9.6</td>\n      <td>9.5</td>\n      <td>9.1</td>\n      <td>9.1</td>\n      <td>9.1</td>\n      <td>9.0</td>\n      <td>9.0</td>\n      <td>9.0</td>\n      <td>8.9</td>\n    </tr>\n    <tr>\n      <th>3</th>\n      <td>BOUCHIÉ-CHATELLIER | Argile à Silex | Pouilly-...</td>\n      <td>92.8</td>\n      <td>97</td>\n      <td>9.6</td>\n      <td>9.5</td>\n      <td>92</td>\n      <td>92</td>\n      <td>92</td>\n      <td>92</td>\n      <td>9.1</td>\n      <td>9.1</td>\n      <td>9.0</td>\n    </tr>\n    <tr>\n      <th>4</th>\n      <td>RASOVA | Nud | 2020</td>\n      <td>92.0</td>\n      <td>9.5</td>\n      <td>9.5</td>\n      <td>944</td>\n      <td>92</td>\n      <td>92</td>\n      <td>9.1</td>\n      <td>9.1</td>\n      <td>9.0</td>\n      <td>9.0</td>\n      <td>90</td>\n    </tr>\n  </tbody>\n</table>\n</div>"
     },
     "execution_count": 29,
     "metadata": {},
     "output_type": "execute_result"
    }
   ],
   "source": [
    "wine_statistics = pd.read_csv('C:\\Datasets and Projects\\WINE QUALITY\\Wine\\Data\\Raw\\Wine statistics (raw data).csv')\n",
    "wine_statistics.head()"
   ]
  },
  {
   "cell_type": "markdown",
   "metadata": {},
   "source": [
    "## Data Exploration"
   ]
  },
  {
   "cell_type": "code",
   "execution_count": 30,
   "metadata": {},
   "outputs": [
    {
     "name": "stdout",
     "output_type": "stream",
     "text": [
      "(876, 12)\n"
     ]
    }
   ],
   "source": [
    "print(wine_statistics.shape)"
   ]
  },
  {
   "cell_type": "code",
   "execution_count": 31,
   "metadata": {},
   "outputs": [
    {
     "name": "stdout",
     "output_type": "stream",
     "text": [
      "Name          0\n",
      "Rating        0\n",
      "Color         0\n",
      "Intensity     0\n",
      "Aroma         0\n",
      "Sweetness     0\n",
      "Acidity       0\n",
      "Alcohol       0\n",
      "Tannin        0\n",
      "Balance       0\n",
      "Finish        0\n",
      "Aftertaste    0\n",
      "dtype: int64\n"
     ]
    }
   ],
   "source": [
    "print(wine_statistics.isna().sum())"
   ]
  },
  {
   "cell_type": "code",
   "execution_count": 32,
   "metadata": {},
   "outputs": [
    {
     "name": "stdout",
     "output_type": "stream",
     "text": [
      "Name           object\n",
      "Rating        float64\n",
      "Color          object\n",
      "Intensity      object\n",
      "Aroma          object\n",
      "Sweetness      object\n",
      "Acidity        object\n",
      "Alcohol        object\n",
      "Tannin         object\n",
      "Balance        object\n",
      "Finish         object\n",
      "Aftertaste     object\n",
      "dtype: object\n"
     ]
    }
   ],
   "source": [
    "print(wine_statistics.dtypes)"
   ]
  },
  {
   "cell_type": "code",
   "execution_count": 33,
   "metadata": {},
   "outputs": [
    {
     "name": "stdout",
     "output_type": "stream",
     "text": [
      "1\n"
     ]
    }
   ],
   "source": [
    "# Finding and deleting duplicates\n",
    "duplicates = wine_statistics.duplicated().sum()\n",
    "print(duplicates)"
   ]
  },
  {
   "cell_type": "code",
   "execution_count": 34,
   "metadata": {},
   "outputs": [],
   "source": [
    "wine_statistics.drop_duplicates(keep=False,inplace=True)"
   ]
  },
  {
   "cell_type": "markdown",
   "source": [
    "### ## Splitting and changing 'Name' column, creating 'Year' column"
   ],
   "metadata": {
    "collapsed": false,
    "pycharm": {
     "name": "#%% md\n"
    }
   }
  },
  {
   "cell_type": "code",
   "execution_count": 35,
   "metadata": {},
   "outputs": [],
   "source": [
    "wine_statistics['Name'] = wine_statistics['Name'].str.replace(r\"([ ][|][ ])\", ', ', regex=True)\n",
    "wine_statistics['Year'] = wine_statistics.Name.str.extract(r'([0-9]{4})', expand = True)\n",
    "wine_statistics['Name'] = wine_statistics['Name'].str.replace(r'([,][ ])([0-9]{4}|#)', '',  regex=True)"
   ]
  },
  {
   "cell_type": "code",
   "execution_count": 36,
   "metadata": {},
   "outputs": [
    {
     "name": "stdout",
     "output_type": "stream",
     "text": [
      "42\n"
     ]
    }
   ],
   "source": [
    "print(wine_statistics['Year'].isnull().sum())"
   ]
  },
  {
   "cell_type": "code",
   "execution_count": 37,
   "metadata": {},
   "outputs": [],
   "source": [
    "# replacing na values\n",
    "wine_statistics['Year'].fillna( method ='ffill', inplace = True)"
   ]
  },
  {
   "cell_type": "markdown",
   "source": [
    "### Numbers standardization"
   ],
   "metadata": {
    "collapsed": false,
    "pycharm": {
     "name": "#%% md\n"
    }
   }
  },
  {
   "cell_type": "code",
   "execution_count": 39,
   "metadata": {},
   "outputs": [],
   "source": [
    "# Сharacter replacement\n",
    "columns = ['Color', 'Intensity', 'Aroma', 'Sweetness', 'Acidity', 'Alcohol', 'Tannin', 'Balance',\n",
    "           'Finish', 'Aftertaste']\n",
    "wine_statistics[columns] = wine_statistics[columns].replace(r',', '', regex=True)\n",
    "wine_statistics[columns] = wine_statistics[columns].replace(r'[.]', '', regex=True)"
   ]
  },
  {
   "cell_type": "code",
   "execution_count": 40,
   "metadata": {},
   "outputs": [],
   "source": [
    "wine_statistics[columns] = wine_statistics[columns].apply(pd.to_numeric, errors='coerce')"
   ]
  },
  {
   "cell_type": "code",
   "execution_count": 41,
   "metadata": {},
   "outputs": [
    {
     "name": "stdout",
     "output_type": "stream",
     "text": [
      "Name          0\n",
      "Rating        0\n",
      "Color         4\n",
      "Intensity     3\n",
      "Aroma         1\n",
      "Sweetness     0\n",
      "Acidity       0\n",
      "Alcohol       0\n",
      "Tannin        0\n",
      "Balance       0\n",
      "Finish        0\n",
      "Aftertaste    0\n",
      "Year          0\n",
      "dtype: int64\n"
     ]
    }
   ],
   "source": [
    "print(wine_statistics.isnull().sum())"
   ]
  },
  {
   "cell_type": "code",
   "execution_count": 42,
   "metadata": {},
   "outputs": [],
   "source": [
    "# Filling empty cells\n",
    "wine_statistics['Color'].fillna( method ='ffill', inplace=True)\n",
    "wine_statistics['Intensity'].fillna( method ='ffill', inplace=True)\n",
    "wine_statistics['Aroma'].fillna( method ='ffill', inplace=True)"
   ]
  },
  {
   "cell_type": "code",
   "execution_count": 43,
   "metadata": {},
   "outputs": [
    {
     "data": {
      "text/plain": "                                               Name  Rating  Color  Intensity  \\\n0                               EQUINOX, Luchineasa    90.7    9.0        9.0   \n1                      BAHU WINERY, Sauvignon Blanc    89.8   94.0       94.0   \n2                        CRAMA BAUER, Feteasca Alba    91.9   96.0       96.0   \n3  BOUCHIÉ-CHATELLIER, Argile à Silex, Pouilly-Fumé    92.8   97.0       96.0   \n4                                       RASOVA, Nud    92.0   95.0       95.0   \n\n   Aroma  Sweetness  Acidity  Alcohol  Tannin  Balance  Finish  Aftertaste  \\\n0   94.0         90       89       89      89       89      89         838   \n1   93.0         89       83       82      82       82      82          82   \n2   95.0         91       91       91      90       90      90          89   \n3   95.0         92       92       92      92       91      91          90   \n4  944.0         92       92       91      91       90      90          90   \n\n   Year  \n0  2020  \n1  2020  \n2  2019  \n3  2019  \n4  2020  ",
      "text/html": "<div>\n<style scoped>\n    .dataframe tbody tr th:only-of-type {\n        vertical-align: middle;\n    }\n\n    .dataframe tbody tr th {\n        vertical-align: top;\n    }\n\n    .dataframe thead th {\n        text-align: right;\n    }\n</style>\n<table border=\"1\" class=\"dataframe\">\n  <thead>\n    <tr style=\"text-align: right;\">\n      <th></th>\n      <th>Name</th>\n      <th>Rating</th>\n      <th>Color</th>\n      <th>Intensity</th>\n      <th>Aroma</th>\n      <th>Sweetness</th>\n      <th>Acidity</th>\n      <th>Alcohol</th>\n      <th>Tannin</th>\n      <th>Balance</th>\n      <th>Finish</th>\n      <th>Aftertaste</th>\n      <th>Year</th>\n    </tr>\n  </thead>\n  <tbody>\n    <tr>\n      <th>0</th>\n      <td>EQUINOX, Luchineasa</td>\n      <td>90.7</td>\n      <td>9.0</td>\n      <td>9.0</td>\n      <td>94.0</td>\n      <td>90</td>\n      <td>89</td>\n      <td>89</td>\n      <td>89</td>\n      <td>89</td>\n      <td>89</td>\n      <td>838</td>\n      <td>2020</td>\n    </tr>\n    <tr>\n      <th>1</th>\n      <td>BAHU WINERY, Sauvignon Blanc</td>\n      <td>89.8</td>\n      <td>94.0</td>\n      <td>94.0</td>\n      <td>93.0</td>\n      <td>89</td>\n      <td>83</td>\n      <td>82</td>\n      <td>82</td>\n      <td>82</td>\n      <td>82</td>\n      <td>82</td>\n      <td>2020</td>\n    </tr>\n    <tr>\n      <th>2</th>\n      <td>CRAMA BAUER, Feteasca Alba</td>\n      <td>91.9</td>\n      <td>96.0</td>\n      <td>96.0</td>\n      <td>95.0</td>\n      <td>91</td>\n      <td>91</td>\n      <td>91</td>\n      <td>90</td>\n      <td>90</td>\n      <td>90</td>\n      <td>89</td>\n      <td>2019</td>\n    </tr>\n    <tr>\n      <th>3</th>\n      <td>BOUCHIÉ-CHATELLIER, Argile à Silex, Pouilly-Fumé</td>\n      <td>92.8</td>\n      <td>97.0</td>\n      <td>96.0</td>\n      <td>95.0</td>\n      <td>92</td>\n      <td>92</td>\n      <td>92</td>\n      <td>92</td>\n      <td>91</td>\n      <td>91</td>\n      <td>90</td>\n      <td>2019</td>\n    </tr>\n    <tr>\n      <th>4</th>\n      <td>RASOVA, Nud</td>\n      <td>92.0</td>\n      <td>95.0</td>\n      <td>95.0</td>\n      <td>944.0</td>\n      <td>92</td>\n      <td>92</td>\n      <td>91</td>\n      <td>91</td>\n      <td>90</td>\n      <td>90</td>\n      <td>90</td>\n      <td>2020</td>\n    </tr>\n  </tbody>\n</table>\n</div>"
     },
     "execution_count": 43,
     "metadata": {},
     "output_type": "execute_result"
    }
   ],
   "source": [
    "wine_statistics.head()"
   ]
  },
  {
   "cell_type": "code",
   "execution_count": 44,
   "metadata": {},
   "outputs": [
    {
     "name": "stdout",
     "output_type": "stream",
     "text": [
      "0.9\n",
      "0.7\n"
     ]
    }
   ],
   "source": [
    "# Detecting too low rating values, which have been scraped not correctly\n",
    "for i in wine_statistics['Rating']:\n",
    "    if i<7:\n",
    "        print(i)"
   ]
  },
  {
   "cell_type": "code",
   "execution_count": 45,
   "metadata": {},
   "outputs": [],
   "source": [
    "# Deleting too low rating values\n",
    "wine_statistics.drop(wine_statistics.index[wine_statistics['Rating'] < 10], inplace = True)"
   ]
  },
  {
   "cell_type": "code",
   "execution_count": 46,
   "metadata": {},
   "outputs": [],
   "source": [
    "# Adding \"Verdict\" column\n",
    "def label_race(row):\n",
    "    if row['Rating'] >= 93:\n",
    "        return 'great'\n",
    "    if row['Rating'] >= 91 and row['Rating']< 93:\n",
    "        return 'fine'\n",
    "    if row['Rating'] >= 89 and row['Rating']< 91:\n",
    "        return 'nice'\n",
    "    return 'fair'     "
   ]
  },
  {
   "cell_type": "code",
   "execution_count": 47,
   "metadata": {},
   "outputs": [],
   "source": [
    "wine_statistics.apply(lambda row: label_race(row), axis=1)\n",
    "wine_statistics['Verdict'] = wine_statistics.apply(lambda row: label_race(row), axis=1)"
   ]
  },
  {
   "cell_type": "markdown",
   "metadata": {},
   "source": [
    "### Converting wine characteristics values to the same form"
   ]
  },
  {
   "cell_type": "code",
   "execution_count": 48,
   "metadata": {},
   "outputs": [],
   "source": [
    "def data_formatting(num):\n",
    "    while num > 10 :\n",
    "        num *= 0.1\n",
    "    return round(num, 1)\n",
    "for column in columns:\n",
    "    wine_statistics[column] = wine_statistics[column].map(lambda x: data_formatting(x))"
   ]
  },
  {
   "cell_type": "code",
   "execution_count": 49,
   "metadata": {},
   "outputs": [],
   "source": [
    "columns_names = ['Name', 'Year', 'Rating', 'Verdict', 'Color', 'Intensity', 'Aroma', 'Sweetness', 'Acidity', 'Alcohol',\n",
    "                 'Tannin', 'Balance', 'Finish', 'Aftertaste' ]\n",
    "wine_statistics = wine_statistics.reindex(columns=columns_names)"
   ]
  },
  {
   "cell_type": "code",
   "execution_count": 50,
   "metadata": {},
   "outputs": [
    {
     "data": {
      "text/plain": "                                               Name  Year  Rating Verdict  \\\n0                               EQUINOX, Luchineasa  2020    90.7    nice   \n1                      BAHU WINERY, Sauvignon Blanc  2020    89.8    nice   \n2                        CRAMA BAUER, Feteasca Alba  2019    91.9    fine   \n3  BOUCHIÉ-CHATELLIER, Argile à Silex, Pouilly-Fumé  2019    92.8    fine   \n4                                       RASOVA, Nud  2020    92.0    fine   \n\n   Color  Intensity  Aroma  Sweetness  Acidity  Alcohol  Tannin  Balance  \\\n0    9.0        9.0    9.4        9.0      8.9      8.9     8.9      8.9   \n1    9.4        9.4    9.3        8.9      8.3      8.2     8.2      8.2   \n2    9.6        9.6    9.5        9.1      9.1      9.1     9.0      9.0   \n3    9.7        9.6    9.5        9.2      9.2      9.2     9.2      9.1   \n4    9.5        9.5    9.4        9.2      9.2      9.1     9.1      9.0   \n\n   Finish  Aftertaste  \n0     8.9         8.4  \n1     8.2         8.2  \n2     9.0         8.9  \n3     9.1         9.0  \n4     9.0         9.0  ",
      "text/html": "<div>\n<style scoped>\n    .dataframe tbody tr th:only-of-type {\n        vertical-align: middle;\n    }\n\n    .dataframe tbody tr th {\n        vertical-align: top;\n    }\n\n    .dataframe thead th {\n        text-align: right;\n    }\n</style>\n<table border=\"1\" class=\"dataframe\">\n  <thead>\n    <tr style=\"text-align: right;\">\n      <th></th>\n      <th>Name</th>\n      <th>Year</th>\n      <th>Rating</th>\n      <th>Verdict</th>\n      <th>Color</th>\n      <th>Intensity</th>\n      <th>Aroma</th>\n      <th>Sweetness</th>\n      <th>Acidity</th>\n      <th>Alcohol</th>\n      <th>Tannin</th>\n      <th>Balance</th>\n      <th>Finish</th>\n      <th>Aftertaste</th>\n    </tr>\n  </thead>\n  <tbody>\n    <tr>\n      <th>0</th>\n      <td>EQUINOX, Luchineasa</td>\n      <td>2020</td>\n      <td>90.7</td>\n      <td>nice</td>\n      <td>9.0</td>\n      <td>9.0</td>\n      <td>9.4</td>\n      <td>9.0</td>\n      <td>8.9</td>\n      <td>8.9</td>\n      <td>8.9</td>\n      <td>8.9</td>\n      <td>8.9</td>\n      <td>8.4</td>\n    </tr>\n    <tr>\n      <th>1</th>\n      <td>BAHU WINERY, Sauvignon Blanc</td>\n      <td>2020</td>\n      <td>89.8</td>\n      <td>nice</td>\n      <td>9.4</td>\n      <td>9.4</td>\n      <td>9.3</td>\n      <td>8.9</td>\n      <td>8.3</td>\n      <td>8.2</td>\n      <td>8.2</td>\n      <td>8.2</td>\n      <td>8.2</td>\n      <td>8.2</td>\n    </tr>\n    <tr>\n      <th>2</th>\n      <td>CRAMA BAUER, Feteasca Alba</td>\n      <td>2019</td>\n      <td>91.9</td>\n      <td>fine</td>\n      <td>9.6</td>\n      <td>9.6</td>\n      <td>9.5</td>\n      <td>9.1</td>\n      <td>9.1</td>\n      <td>9.1</td>\n      <td>9.0</td>\n      <td>9.0</td>\n      <td>9.0</td>\n      <td>8.9</td>\n    </tr>\n    <tr>\n      <th>3</th>\n      <td>BOUCHIÉ-CHATELLIER, Argile à Silex, Pouilly-Fumé</td>\n      <td>2019</td>\n      <td>92.8</td>\n      <td>fine</td>\n      <td>9.7</td>\n      <td>9.6</td>\n      <td>9.5</td>\n      <td>9.2</td>\n      <td>9.2</td>\n      <td>9.2</td>\n      <td>9.2</td>\n      <td>9.1</td>\n      <td>9.1</td>\n      <td>9.0</td>\n    </tr>\n    <tr>\n      <th>4</th>\n      <td>RASOVA, Nud</td>\n      <td>2020</td>\n      <td>92.0</td>\n      <td>fine</td>\n      <td>9.5</td>\n      <td>9.5</td>\n      <td>9.4</td>\n      <td>9.2</td>\n      <td>9.2</td>\n      <td>9.1</td>\n      <td>9.1</td>\n      <td>9.0</td>\n      <td>9.0</td>\n      <td>9.0</td>\n    </tr>\n  </tbody>\n</table>\n</div>"
     },
     "execution_count": 50,
     "metadata": {},
     "output_type": "execute_result"
    }
   ],
   "source": [
    "wine_statistics.head()"
   ]
  },
  {
   "cell_type": "code",
   "execution_count": 52,
   "metadata": {
    "pycharm": {
     "name": "#%%\n"
    }
   },
   "outputs": [],
   "source": [
    "# Saving dataset\n",
    "os.chdir(data_processed_folder)\n",
    "wine_statistics.to_csv('Wine statistics(processed data).csv', index=False)"
   ]
  }
 ],
 "metadata": {
  "kernelspec": {
   "display_name": "Python 3 (ipykernel)",
   "language": "python",
   "name": "python3"
  },
  "language_info": {
   "codemirror_mode": {
    "name": "ipython",
    "version": 3
   },
   "file_extension": ".py",
   "mimetype": "text/x-python",
   "name": "python",
   "nbconvert_exporter": "python",
   "pygments_lexer": "ipython3",
   "version": "3.9.5"
  }
 },
 "nbformat": 4,
 "nbformat_minor": 1
}