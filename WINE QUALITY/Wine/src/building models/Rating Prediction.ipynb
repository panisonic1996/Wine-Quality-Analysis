{
 "cells": [
  {
   "cell_type": "markdown",
   "source": [
    "# Building Model"
   ],
   "metadata": {
    "collapsed": false
   }
  },
  {
   "cell_type": "markdown",
   "source": [
    "#### Importing libraries"
   ],
   "metadata": {
    "collapsed": false,
    "pycharm": {
     "name": "#%% md\n"
    }
   }
  },
  {
   "cell_type": "code",
   "execution_count": 111,
   "metadata": {},
   "outputs": [],
   "source": [
    "import pandas as pd\n",
    "from sklearn.model_selection import train_test_split\n",
    "from sklearn import linear_model\n",
    "from sklearn.metrics import mean_squared_error, r2_score\n",
    "import numpy as np\n",
    "import matplotlib.pyplot as plt\n",
    "import pickle\n",
    "import os"
   ]
  },
  {
   "cell_type": "markdown",
   "source": [
    "#### Importing constants"
   ],
   "metadata": {
    "collapsed": false,
    "pycharm": {
     "name": "#%% md\n"
    }
   }
  },
  {
   "cell_type": "code",
   "execution_count": 112,
   "outputs": [],
   "source": [
    "from src.constants_and_functions.constants import models_saving_folder"
   ],
   "metadata": {
    "collapsed": false,
    "pycharm": {
     "name": "#%%\n"
    }
   }
  },
  {
   "cell_type": "markdown",
   "source": [
    "#### Loading Data"
   ],
   "metadata": {
    "collapsed": false,
    "pycharm": {
     "name": "#%% md\n"
    }
   }
  },
  {
   "cell_type": "code",
   "execution_count": 113,
   "metadata": {},
   "outputs": [
    {
     "data": {
      "text/plain": "                                               Name  Year  Rating Verdict  \\\n0                               EQUINOX, Luchineasa  2020    90.7    nice   \n1                      BAHU WINERY, Sauvignon Blanc  2020    89.8    nice   \n2                        CRAMA BAUER, Feteasca Alba  2019    91.9    fine   \n3  BOUCHIÉ-CHATELLIER, Argile à Silex, Pouilly-Fumé  2019    92.8    fine   \n4                                       RASOVA, Nud  2020    92.0    fine   \n\n   Color  Intensity  Aroma  Sweetness  Acidity  Alcohol  Tannin  Balance  \\\n0    9.0        9.0    9.4        9.0      8.9      8.9     8.9      8.9   \n1    9.4        9.4    9.3        8.9      8.3      8.2     8.2      8.2   \n2    9.6        9.6    9.5        9.1      9.1      9.1     9.0      9.0   \n3    9.7        9.6    9.5        9.2      9.2      9.2     9.2      9.1   \n4    9.5        9.5    9.4        9.2      9.2      9.1     9.1      9.0   \n\n   Finish  Aftertaste  \n0     8.9         8.4  \n1     8.2         8.2  \n2     9.0         8.9  \n3     9.1         9.0  \n4     9.0         9.0  ",
      "text/html": "<div>\n<style scoped>\n    .dataframe tbody tr th:only-of-type {\n        vertical-align: middle;\n    }\n\n    .dataframe tbody tr th {\n        vertical-align: top;\n    }\n\n    .dataframe thead th {\n        text-align: right;\n    }\n</style>\n<table border=\"1\" class=\"dataframe\">\n  <thead>\n    <tr style=\"text-align: right;\">\n      <th></th>\n      <th>Name</th>\n      <th>Year</th>\n      <th>Rating</th>\n      <th>Verdict</th>\n      <th>Color</th>\n      <th>Intensity</th>\n      <th>Aroma</th>\n      <th>Sweetness</th>\n      <th>Acidity</th>\n      <th>Alcohol</th>\n      <th>Tannin</th>\n      <th>Balance</th>\n      <th>Finish</th>\n      <th>Aftertaste</th>\n    </tr>\n  </thead>\n  <tbody>\n    <tr>\n      <th>0</th>\n      <td>EQUINOX, Luchineasa</td>\n      <td>2020</td>\n      <td>90.7</td>\n      <td>nice</td>\n      <td>9.0</td>\n      <td>9.0</td>\n      <td>9.4</td>\n      <td>9.0</td>\n      <td>8.9</td>\n      <td>8.9</td>\n      <td>8.9</td>\n      <td>8.9</td>\n      <td>8.9</td>\n      <td>8.4</td>\n    </tr>\n    <tr>\n      <th>1</th>\n      <td>BAHU WINERY, Sauvignon Blanc</td>\n      <td>2020</td>\n      <td>89.8</td>\n      <td>nice</td>\n      <td>9.4</td>\n      <td>9.4</td>\n      <td>9.3</td>\n      <td>8.9</td>\n      <td>8.3</td>\n      <td>8.2</td>\n      <td>8.2</td>\n      <td>8.2</td>\n      <td>8.2</td>\n      <td>8.2</td>\n    </tr>\n    <tr>\n      <th>2</th>\n      <td>CRAMA BAUER, Feteasca Alba</td>\n      <td>2019</td>\n      <td>91.9</td>\n      <td>fine</td>\n      <td>9.6</td>\n      <td>9.6</td>\n      <td>9.5</td>\n      <td>9.1</td>\n      <td>9.1</td>\n      <td>9.1</td>\n      <td>9.0</td>\n      <td>9.0</td>\n      <td>9.0</td>\n      <td>8.9</td>\n    </tr>\n    <tr>\n      <th>3</th>\n      <td>BOUCHIÉ-CHATELLIER, Argile à Silex, Pouilly-Fumé</td>\n      <td>2019</td>\n      <td>92.8</td>\n      <td>fine</td>\n      <td>9.7</td>\n      <td>9.6</td>\n      <td>9.5</td>\n      <td>9.2</td>\n      <td>9.2</td>\n      <td>9.2</td>\n      <td>9.2</td>\n      <td>9.1</td>\n      <td>9.1</td>\n      <td>9.0</td>\n    </tr>\n    <tr>\n      <th>4</th>\n      <td>RASOVA, Nud</td>\n      <td>2020</td>\n      <td>92.0</td>\n      <td>fine</td>\n      <td>9.5</td>\n      <td>9.5</td>\n      <td>9.4</td>\n      <td>9.2</td>\n      <td>9.2</td>\n      <td>9.1</td>\n      <td>9.1</td>\n      <td>9.0</td>\n      <td>9.0</td>\n      <td>9.0</td>\n    </tr>\n  </tbody>\n</table>\n</div>"
     },
     "execution_count": 113,
     "metadata": {},
     "output_type": "execute_result"
    }
   ],
   "source": [
    "wine_statistics = pd.read_csv('\\\\Datasets and Projects\\\\WINE QUALITY\\\\Wine\\\\Data\\\\Processed\\\\Wine statistics(processed data).csv')\n",
    "wine_statistics.head()"
   ]
  },
  {
   "cell_type": "markdown",
   "source": [
    "## Wine rating prediction (Linear Regression Model)"
   ],
   "metadata": {
    "collapsed": false,
    "pycharm": {
     "name": "#%% md\n"
    }
   }
  },
  {
   "cell_type": "code",
   "execution_count": 114,
   "metadata": {},
   "outputs": [],
   "source": [
    "x = wine_statistics.iloc[:, 5:].values\n",
    "y = wine_statistics['Rating']"
   ]
  },
  {
   "cell_type": "code",
   "execution_count": 115,
   "metadata": {
    "pycharm": {
     "name": "#%%\n"
    }
   },
   "outputs": [],
   "source": [
    "x_train, x_test, y_train, y_test = train_test_split(x, y, test_size = 0.2)"
   ]
  },
  {
   "cell_type": "code",
   "execution_count": 116,
   "metadata": {},
   "outputs": [
    {
     "data": {
      "text/plain": "((697, 9), (697,))"
     },
     "execution_count": 116,
     "metadata": {},
     "output_type": "execute_result"
    }
   ],
   "source": [
    "x_train.shape, y_train.shape"
   ]
  },
  {
   "cell_type": "code",
   "execution_count": 101,
   "metadata": {},
   "outputs": [
    {
     "data": {
      "text/plain": "((175, 9), (175,))"
     },
     "execution_count": 101,
     "metadata": {},
     "output_type": "execute_result"
    }
   ],
   "source": [
    "x_test.shape, y_test.shape"
   ]
  },
  {
   "cell_type": "code",
   "execution_count": 102,
   "metadata": {},
   "outputs": [],
   "source": [
    "model = linear_model.LinearRegression()"
   ]
  },
  {
   "cell_type": "code",
   "execution_count": 103,
   "metadata": {},
   "outputs": [
    {
     "data": {
      "text/plain": "LinearRegression()"
     },
     "execution_count": 103,
     "metadata": {},
     "output_type": "execute_result"
    }
   ],
   "source": [
    "model.fit(x_train, y_train)"
   ]
  },
  {
   "cell_type": "code",
   "execution_count": 104,
   "metadata": {},
   "outputs": [],
   "source": [
    "y_pred = model.predict(x_test)"
   ]
  },
  {
   "cell_type": "code",
   "execution_count": 105,
   "metadata": {},
   "outputs": [
    {
     "name": "stdout",
     "output_type": "stream",
     "text": [
      "Coefficients: [ 1.57168603  1.14367492  0.48865045  0.8763241   2.15202687  1.3075243\n",
      " -0.93300493  1.33785258  1.54882786]\n",
      "Intercept: 4.717132663530819\n",
      "Mean squared error (MSE): 0.14\n",
      "Coefficient of determination (R^2): 0.95\n"
     ]
    }
   ],
   "source": [
    "print('Coefficients:', model.coef_)\n",
    "print('Intercept:', model.intercept_)\n",
    "print('Mean squared error (MSE): %.2f'\n",
    "      % mean_squared_error(y_test, y_pred))\n",
    "print('Coefficient of determination (R^2): %.2f'\n",
    "      % r2_score(y_test, y_pred))"
   ]
  },
  {
   "cell_type": "code",
   "execution_count": 106,
   "outputs": [],
   "source": [
    "# Saving model results\n",
    "current_directory=os.getcwd()\n",
    "os.chdir(models_saving_folder)\n",
    "filename = 'Wine Linear Regression Model.sav'\n",
    "pickle.dump(model, open(filename, 'wb'))\n",
    "os.chdir(current_directory)"
   ],
   "metadata": {
    "collapsed": false,
    "pycharm": {
     "name": "#%%\n"
    }
   }
  },
  {
   "cell_type": "code",
   "execution_count": 107,
   "metadata": {},
   "outputs": [
    {
     "name": "stdout",
     "output_type": "stream",
     "text": [
      "[92.8 91.1 90.4 90.2 89.9 87.5 91.3 88.7 88.5 92.5 89.6 93.  90.4 89.7\n",
      " 88.5 90.7 90.3 89.7 91.1 91.3 92.  93.3 89.7 91.4 92.8 89.2 90.6 90.2\n",
      " 89.5 88.9 89.3 89.7 90.7 89.9 87.8 91.5 89.5 91.4 91.7 91.8 92.3 90.5\n",
      " 90.9 91.8 93.5 91.5 93.7 87.5 94.7 90.9 93.5 90.4 90.8 92.2 90.3 89.5\n",
      " 90.4 95.  90.4 90.7 91.4 90.4 91.1 93.2 87.  93.3 90.  90.3 94.7 89.2\n",
      " 87.8 88.8 90.2 92.1 92.  90.5 92.7 88.7 91.5 86.9 90.5 90.6 91.4 88.7\n",
      " 89.7 89.9 90.  90.8 90.  90.2 94.5 89.9 87.4 88.6 89.6 91.7 90.6 89.7\n",
      " 90.8 90.7 91.  90.8 89.8 89.3 89.5 90.8 88.5 88.9 91.1 90.8 91.6 93.\n",
      " 89.  92.  90.7 90.5 90.3 88.5 91.9 90.8 90.4 92.8 89.9 91.3 91.2 89.7\n",
      " 89.6 89.5 86.9 89.7 89.7 91.8 89.9 90.6 88.7 90.4 89.7 92.  87.5 91.7\n",
      " 90.5 90.6 95.5 90.1 91.  92.5 92.7 90.  88.  89.9 88.6 90.1 88.5 94.\n",
      " 91.  92.9 91.2 90.5 91.4 91.9 88.8 89.4 88.5 90.5 90.5 91.6 87.5 91.2\n",
      " 92.5 91.3 91.7 91.7 92.2 89.7 89.1]\n"
     ]
    }
   ],
   "source": [
    "print(np.array(y_test))"
   ]
  },
  {
   "cell_type": "code",
   "execution_count": 108,
   "metadata": {},
   "outputs": [
    {
     "name": "stdout",
     "output_type": "stream",
     "text": [
      "[92.67943138 90.92840415 90.59785298 90.30511556 89.98249653 87.96128434\n",
      " 91.48949402 88.57642613 88.06143942 91.74560785 89.63701137 92.73976029\n",
      " 90.56655397 89.70514907 88.96850678 90.58415153 90.37076723 89.54459365\n",
      " 90.96723796 91.29527783 92.0214554  93.33400368 89.94109985 91.50440808\n",
      " 91.78612315 89.37909543 90.69287087 90.06142986 89.74351465 89.2861478\n",
      " 89.74950496 89.60628079 90.71790345 89.91643161 87.76878605 91.66911322\n",
      " 89.44114768 91.43806016 91.48425232 91.79276162 92.21743257 90.43715289\n",
      " 91.03832733 91.79947807 93.3332985  91.33419214 93.12144924 89.53910649\n",
      " 94.53411985 90.892204   92.8095444  90.28713202 90.8446903  92.11356627\n",
      " 90.27784951 89.59091768 90.33199986 94.82507371 90.45825042 90.9449892\n",
      " 91.4248878  90.56597655 91.2038588  92.78402193 85.74322522 93.39754756\n",
      " 89.75534444 90.48912304 94.03375597 89.45487351 88.08200465 88.80962296\n",
      " 90.11408498 91.94557757 91.5992922  90.31696627 92.42921658 88.98205921\n",
      " 91.64666262 87.60788693 90.6734531  90.66559766 91.49205689 88.83917669\n",
      " 89.99910242 90.33263644 90.50178953 91.05235828 90.45898842 90.33895284\n",
      " 94.43461743 90.05250268 87.91789968 88.59205528 89.55923001 90.7285595\n",
      " 90.46100436 89.55923001 90.80157028 90.78614083 90.91208989 90.76059998\n",
      " 89.84425298 89.26830777 89.37532632 90.82359277 88.77329245 89.19905886\n",
      " 91.30987655 91.0813809  91.56702281 93.19665889 89.07090833 91.64395761\n",
      " 90.76855388 90.29560119 90.34738388 88.62075421 91.77077064 90.78665621\n",
      " 90.43151533 92.79990638 90.17358381 91.38475958 91.37719485 89.83076611\n",
      " 89.56832505 89.88748047 86.91861091 89.75719617 89.75369521 92.30339274\n",
      " 89.97978434 90.65190057 88.98109494 90.55818928 90.16406179 92.81015732\n",
      " 88.23567536 91.47632171 91.14660043 90.74784342 94.03318166 90.22673507\n",
      " 91.33868084 92.19450846 91.5229368  90.00053253 89.01997461 90.01669998\n",
      " 88.61268923 90.22155252 88.58903146 93.63486054 91.19457458 92.27837175\n",
      " 90.98635903 90.57490373 91.66817874 91.95121512 89.0141925  89.69279788\n",
      " 88.74272457 89.79554218 90.34863726 91.41657556 88.03630092 91.31340551\n",
      " 92.48980885 91.15617392 91.11940855 91.97226722 91.83948387 89.78814424\n",
      " 89.17757609]\n"
     ]
    }
   ],
   "source": [
    "print(y_pred)"
   ]
  },
  {
   "cell_type": "code",
   "execution_count": 109,
   "outputs": [],
   "source": [
    "# Visualisation results of regression\n",
    "rating_comparing = pd.DataFrame({'Actual': y_test, 'Predicted': y_pred})\n",
    "rating_comparing = rating_comparing.head(20)"
   ],
   "metadata": {
    "collapsed": false,
    "pycharm": {
     "name": "#%%\n"
    }
   }
  },
  {
   "cell_type": "code",
   "execution_count": 110,
   "outputs": [
    {
     "data": {
      "text/plain": "<Figure size 1440x576 with 1 Axes>",
      "image/png": "[encoded data removed]"
     },
     "metadata": {
      "needs_background": "light"
     },
     "output_type": "display_data"
    }
   ],
   "source": [
    "rating_comparing.plot(kind='bar',figsize=(20,8), color=['#9ACD32', '#EEE8AA'])\n",
    "\n",
    "plt.title('Actual and Predicted Ratings Comparing', fontsize=15)\n",
    "\n",
    "plt.grid(which='major', linestyle='-', linewidth='0.5')\n",
    "plt.grid(which='minor', linestyle=':', linewidth='0.5')\n",
    "\n",
    "plt.ylabel('Rating', fontsize=12)\n",
    "plt.xlabel('Sample', fontsize=15)\n",
    "\n",
    "plt.yticks(np.arange(0, 101, 10))\n",
    "plt.legend(fontsize= 'x-large', loc='center right', edgecolor = 'black')\n",
    "plt.show()"
   ],
   "metadata": {
    "collapsed": false,
    "pycharm": {
     "name": "#%%\n"
    }
   }
  }
 ],
 "metadata": {
  "kernelspec": {
   "display_name": "Python 3 (ipykernel)",
   "language": "python",
   "name": "python3"
  },
  "language_info": {
   "codemirror_mode": {
    "name": "ipython",
    "version": 3
   },
   "file_extension": ".py",
   "mimetype": "text/x-python",
   "name": "python",
   "nbconvert_exporter": "python",
   "pygments_lexer": "ipython3",
   "version": "3.9.5"
  }
 },
 "nbformat": 4,
 "nbformat_minor": 1
}